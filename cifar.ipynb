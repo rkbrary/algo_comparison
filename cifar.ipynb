{
 "cells": [
  {
   "cell_type": "code",
   "execution_count": 8,
   "metadata": {
    "collapsed": true,
    "pycharm": {
     "is_executing": false
    }
   },
   "outputs": [],
   "source": [
    "import numpy as np\n",
    "import seaborn as sns\n",
    "import matplotlib.pyplot as plt\n",
    "from sklearn.naive_bayes import GaussianNB"
   ]
  },
  {
   "cell_type": "code",
   "execution_count": 2,
   "outputs": [],
   "source": [
    "def unpickle(file):\n",
    "    import pickle\n",
    "    with open(file, 'rb') as fo:\n",
    "        dict = pickle.load(fo, encoding='bytes')\n",
    "    return dict\n",
    "batch=unpickle(f'data_batch_1')\n",
    "x_train=np.array(batch[b'data'])\n",
    "y_train=np.array(batch[b'labels'])\n",
    "for i in range(2,5):\n",
    "    batch=unpickle(f'data_batch_{i}')\n",
    "    x_train=np.append(x_train,batch[b'data'],axis=0)\n",
    "    y_train=np.append(y_train,batch[b'labels'])\n",
    "x_train=x_train.astype('float32')\n",
    "# x_train=(x_train.reshape((40000,3,32,32))).transpose((0,2,3,1)).astype('float32')\n",
    "\n",
    "batch=unpickle('data_batch_5')\n",
    "x_val=batch[b'data'].astype('float32')\n",
    "y_val=np.array(batch[b'labels'])\n",
    "\n",
    "batch=unpickle('test_batch')\n",
    "x_test=batch[b'data'].astype('float32')\n",
    "y_test=np.array(batch[b'labels'])\n"
   ],
   "metadata": {
    "collapsed": false,
    "pycharm": {
     "name": "#%%\n",
     "is_executing": false
    }
   }
  },
  {
   "cell_type": "code",
   "execution_count": 44,
   "outputs": [],
   "source": [
    "# num_classes = 10\n",
    "\n",
    "# y_train=to_categorical(y_train,num_classes)\n",
    "# y_val=to_categorical(y_val,num_classes)\n",
    "# y_test=to_categorical(y_test,num_classes)\n",
    "\n",
    "names=['airplane','automobile','bird','cat','deer','dog','frog','horse','ship','truck']\n",
    "names=dict((i,j) for i,j in enumerate(names))\n",
    "\n",
    "m=np.mean(x_train,axis=0)\n",
    "s=np.std(x_train,axis=0)"
   ],
   "metadata": {
    "collapsed": false,
    "pycharm": {
     "name": "#%%\n",
     "is_executing": false
    }
   }
  },
  {
   "cell_type": "code",
   "execution_count": 45,
   "outputs": [],
   "source": [
    "def normalization(x):\n",
    "    return (x-m)/s"
   ],
   "metadata": {
    "collapsed": false,
    "pycharm": {
     "name": "#%%\n",
     "is_executing": false
    }
   }
  },
  {
   "cell_type": "code",
   "execution_count": 46,
   "outputs": [],
   "source": [
    "x_train=normalization(x_train)"
   ],
   "metadata": {
    "collapsed": false,
    "pycharm": {
     "name": "#%%\n",
     "is_executing": false
    }
   }
  },
  {
   "cell_type": "code",
   "execution_count": 47,
   "outputs": [
    {
     "data": {
      "text/plain": "<matplotlib.axes._subplots.AxesSubplot at 0x18c96518bc8>"
     },
     "metadata": {},
     "output_type": "execute_result",
     "execution_count": 47
    },
    {
     "data": {
      "text/plain": "<Figure size 432x288 with 1 Axes>",
      "image/png": "[encoded data removed]"
     },
     "metadata": {
      "needs_background": "light"
     },
     "output_type": "display_data"
    }
   ],
   "source": [
    "sns.distplot(x_train.mean(axis=1))"
   ],
   "metadata": {
    "collapsed": false,
    "pycharm": {
     "name": "#%%\n",
     "is_executing": false
    }
   }
  },
  {
   "cell_type": "code",
   "execution_count": 48,
   "outputs": [
    {
     "data": {
      "text/plain": "<matplotlib.axes._subplots.AxesSubplot at 0x18c9661e388>"
     },
     "metadata": {},
     "output_type": "execute_result",
     "execution_count": 48
    },
    {
     "data": {
      "text/plain": "<Figure size 432x288 with 1 Axes>",
      "image/png": "[encoded data removed]"
     },
     "metadata": {
      "needs_background": "light"
     },
     "output_type": "display_data"
    }
   ],
   "source": [
    "sns.distplot(x_train[:,1000])"
   ],
   "metadata": {
    "collapsed": false,
    "pycharm": {
     "name": "#%%\n",
     "is_executing": false
    }
   }
  },
  {
   "cell_type": "code",
   "execution_count": 53,
   "outputs": [
    {
     "data": {
      "text/plain": "GaussianNB(priors=None, var_smoothing=1e-09)"
     },
     "metadata": {},
     "output_type": "execute_result",
     "execution_count": 53
    }
   ],
   "source": [
    "\n",
    "model=GaussianNB()\n",
    "model.fit(x_train,y_train)\n",
    "\n"
   ],
   "metadata": {
    "collapsed": false,
    "pycharm": {
     "name": "#%%\n",
     "is_executing": false
    }
   }
  },
  {
   "cell_type": "code",
   "execution_count": 54,
   "outputs": [
    {
     "data": {
      "text/plain": "0.285525"
     },
     "metadata": {},
     "output_type": "execute_result",
     "execution_count": 54
    }
   ],
   "source": [
    "model.score(x_train,y_train)"
   ],
   "metadata": {
    "collapsed": false,
    "pycharm": {
     "name": "#%%\n",
     "is_executing": false
    }
   }
  },
  {
   "cell_type": "code",
   "execution_count": 55,
   "outputs": [
    {
     "data": {
      "text/plain": "0.288"
     },
     "metadata": {},
     "output_type": "execute_result",
     "execution_count": 55
    }
   ],
   "source": [
    "# x_val=normalization(x_val)\n",
    "model.score(x_val,y_val)"
   ],
   "metadata": {
    "collapsed": false,
    "pycharm": {
     "name": "#%%\n",
     "is_executing": false
    }
   }
  },
  {
   "cell_type": "code",
   "execution_count": 57,
   "outputs": [
    {
     "data": {
      "text/plain": "0.2971"
     },
     "metadata": {},
     "output_type": "execute_result",
     "execution_count": 57
    }
   ],
   "source": [
    "model.score(x_test,y_test)"
   ],
   "metadata": {
    "collapsed": false,
    "pycharm": {
     "name": "#%%\n",
     "is_executing": false
    }
   }
  },
  {
   "cell_type": "code",
   "execution_count": 3,
   "outputs": [],
   "source": [
    "from sklearn.decomposition import PCA\n",
    "\n",
    "pca=PCA()\n",
    "\n",
    "x=pca.fit_transform(x_train)\n",
    "x_v=pca.transform(x_val)\n",
    "x_t=pca.transform(x_test)"
   ],
   "metadata": {
    "collapsed": false,
    "pycharm": {
     "name": "#%%\n",
     "is_executing": false
    }
   }
  },
  {
   "cell_type": "code",
   "execution_count": 71,
   "outputs": [],
   "source": [
    "pca_val_score=[]\n",
    "for i in range(1,100):\n",
    "    pca_model=GaussianNB()\n",
    "    pca_model.fit(x[:,:i],y_train)\n",
    "    pca_val_score.append(pca_model.score(x_v[:,:i],y_val))"
   ],
   "metadata": {
    "collapsed": false,
    "pycharm": {
     "name": "#%%\n",
     "is_executing": false
    }
   }
  },
  {
   "cell_type": "code",
   "execution_count": 78,
   "outputs": [
    {
     "data": {
      "text/plain": "<Figure size 432x288 with 1 Axes>",
      "image/png": "[encoded data removed]"
     },
     "metadata": {
      "needs_background": "light"
     },
     "output_type": "display_data"
    },
    {
     "name": "stdout",
     "text": [
      "Number of components: 25 Best score on validation: 0.3741\n"
     ],
     "output_type": "stream"
    }
   ],
   "source": [
    "plt.plot(pca_val_score)\n",
    "plt.scatter(np.argmax(pca_val_score),max(pca_val_score))\n",
    "plt.xlabel('Number of components')\n",
    "plt.ylabel('Validation Score')\n",
    "plt.show()\n",
    "print('Number of components:',np.argmax(pca_val_score),'Best score on validation:',max(pca_val_score) )"
   ],
   "metadata": {
    "collapsed": false,
    "pycharm": {
     "name": "#%%\n",
     "is_executing": false
    }
   }
  },
  {
   "cell_type": "code",
   "execution_count": 14,
   "outputs": [
    {
     "name": "stdout",
     "text": [
      "0.3709\n[[459  40  47  42  73  20  64  37 160  58]\n [ 60 352  26  57  41  48  83  40 101 192]\n [ 99  42 122  90 250  56 215  63  27  36]\n [ 54  47  67 255  88 133 187  68  36  65]\n [ 48  21  63  50 422  28 238  79  29  22]\n [ 40  24  74 173  87 288 150  86  31  47]\n [ 21  38  50  46 150  42 565  38  10  40]\n [ 50  43  43  80 161  62  97 306  52 106]\n [150  67  16  32  44  34  52  41 482  82]\n [ 66 132  11  45  40  19  71  55 103 458]]\n[[0.459 0.04  0.047 0.042 0.073 0.02  0.064 0.037 0.16  0.058]\n [0.06  0.352 0.026 0.057 0.041 0.048 0.083 0.04  0.101 0.192]\n [0.099 0.042 0.122 0.09  0.25  0.056 0.215 0.063 0.027 0.036]\n [0.054 0.047 0.067 0.255 0.088 0.133 0.187 0.068 0.036 0.065]\n [0.048 0.021 0.063 0.05  0.422 0.028 0.238 0.079 0.029 0.022]\n [0.04  0.024 0.074 0.173 0.087 0.288 0.15  0.086 0.031 0.047]\n [0.021 0.038 0.05  0.046 0.15  0.042 0.565 0.038 0.01  0.04 ]\n [0.05  0.043 0.043 0.08  0.161 0.062 0.097 0.306 0.052 0.106]\n [0.15  0.067 0.016 0.032 0.044 0.034 0.052 0.041 0.482 0.082]\n [0.066 0.132 0.011 0.045 0.04  0.019 0.071 0.055 0.103 0.458]]\n"
     ],
     "output_type": "stream"
    }
   ],
   "source": [
    "pca_model=GaussianNB()\n",
    "pca_model.fit(x[:,:25],y_train)\n",
    "print(pca_model.score(x_t[:,:25],y_test))\n",
    "\n",
    "from sklearn.metrics import confusion_matrix\n",
    "pred_test=pca_model.predict(x_t[:,:25])\n",
    "conf=confusion_matrix(y_test,pred_test)\n",
    "print(conf)\n",
    "print(conf/conf.sum(axis=1))"
   ],
   "metadata": {
    "collapsed": false,
    "pycharm": {
     "name": "#%%\n",
     "is_executing": false
    }
   }
  },
  {
   "cell_type": "code",
   "execution_count": 82,
   "outputs": [
    {
     "data": {
      "text/plain": "<matplotlib.axes._subplots.AxesSubplot at 0x18c96cad388>"
     },
     "metadata": {},
     "output_type": "execute_result",
     "execution_count": 82
    },
    {
     "data": {
      "text/plain": "<Figure size 432x288 with 1 Axes>",
      "image/png": "[encoded data removed]"
     },
     "metadata": {
      "needs_background": "light"
     },
     "output_type": "display_data"
    }
   ],
   "source": [
    "sns.distplot(x[:,0])"
   ],
   "metadata": {
    "collapsed": false,
    "pycharm": {
     "name": "#%%\n",
     "is_executing": false
    }
   }
  },
  {
   "cell_type": "code",
   "execution_count": 4,
   "outputs": [
    {
     "name": "stdout",
     "text": [
      "10\n",
      "20\n",
      "30\n",
      "40\n",
      "50\n",
      "60\n",
      "70\n",
      "80\n",
      "90\n",
      "100\n",
      "110\n",
      "120\n",
      "130\n",
      "140\n",
      "150\n",
      "160\n",
      "170\n",
      "180\n",
      "190\n"
     ],
     "output_type": "stream"
    }
   ],
   "source": [
    "from sklearn.svm import LinearSVC\n",
    "from sklearn.linear_model import SGDClassifier\n",
    "\n",
    "svc_val=[]\n",
    "for i in range(1,200):\n",
    "    pca_svc=SGDClassifier(n_jobs=-1)\n",
    "    pca_svc.fit(x[:,:i],y_train)\n",
    "    if i%10==0:print(i)\n",
    "    svc_val.append(pca_svc.score(x_v[:,:i],y_val))"
   ],
   "metadata": {
    "collapsed": false,
    "pycharm": {
     "name": "#%%\n",
     "is_executing": false
    }
   }
  },
  {
   "cell_type": "code",
   "execution_count": 5,
   "outputs": [
    {
     "data": {
      "text/plain": "<Figure size 432x288 with 1 Axes>",
      "image/png": "[encoded data removed]"
     },
     "metadata": {
      "needs_background": "light"
     },
     "output_type": "display_data"
    },
    {
     "name": "stdout",
     "text": [
      "Number of components: 190 Best score on validation: 0.3295\n"
     ],
     "output_type": "stream"
    }
   ],
   "source": [
    "plt.plot(svc_val)\n",
    "plt.xlabel('Number of components')\n",
    "plt.ylabel('Validation Score')\n",
    "plt.show()\n",
    "print('Number of components:',np.argmax(svc_val),'Best score on validation:',max(svc_val) )"
   ],
   "metadata": {
    "collapsed": false,
    "pycharm": {
     "name": "#%%\n",
     "is_executing": false
    }
   }
  },
  {
   "cell_type": "code",
   "execution_count": 6,
   "outputs": [
    {
     "name": "stdout",
     "text": [
      "0.2997\n"
     ],
     "output_type": "stream"
    }
   ],
   "source": [
    "pca_svc=SGDClassifier(n_jobs=-1)\n",
    "pca_svc.fit(x[:,:190],y_train)\n",
    "print(pca_svc.score(x_t[:,:190],y_test))"
   ],
   "metadata": {
    "collapsed": false,
    "pycharm": {
     "name": "#%%\n",
     "is_executing": false
    }
   }
  },
  {
   "cell_type": "code",
   "execution_count": null,
   "outputs": [],
   "source": [
    "svc=SGDClassifier(n_jobs=-1)\n",
    "svc.fit(x_train,y_train)\n",
    "\n",
    "print(svc.score(x_train,y_train))\n",
    "print(svc.score(x_test,y_test))\n"
   ],
   "metadata": {
    "collapsed": false,
    "pycharm": {
     "name": "#%%\n"
    }
   }
  }
 ],
 "metadata": {
  "kernelspec": {
   "display_name": "Python 3",
   "language": "python",
   "name": "python3"
  },
  "language_info": {
   "codemirror_mode": {
    "name": "ipython",
    "version": 2
   },
   "file_extension": ".py",
   "mimetype": "text/x-python",
   "name": "python",
   "nbconvert_exporter": "python",
   "pygments_lexer": "ipython2",
   "version": "2.7.6"
  },
  "pycharm": {
   "stem_cell": {
    "cell_type": "raw",
    "source": [],
    "metadata": {
     "collapsed": false
    }
   }
  }
 },
 "nbformat": 4,
 "nbformat_minor": 0
}